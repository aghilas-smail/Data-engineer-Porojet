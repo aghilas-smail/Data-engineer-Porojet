{
 "cells": [
  {
   "cell_type": "code",
   "execution_count": 1,
   "metadata": {},
   "outputs": [
    {
     "name": "stdout",
     "output_type": "stream",
     "text": [
      "Aghilas1999.\n"
     ]
    }
   ],
   "source": [
    "import sys\n",
    "import os\n",
    "import psycopg2\n",
    "\n",
    "# Ajouter le chemin du répertoire parent du dossier 'src' au sys.path\n",
    "project_path = \"C:\\\\Users\\\\aghil\\\\Documents\\\\Data-engineer-Porojet\"\n",
    "sys.path.insert(0, project_path)\n",
    "\n",
    "# Importer les champs de la base de données depuis le module 'src.data'\n",
    "try:\n",
    "    from src.data import DB_FIELDS\n",
    "except ModuleNotFoundError as e:\n",
    "    print(f\"Erreur : {e}. Assurez-vous que le chemin est correct et que le module 'src' existe.\")\n",
    "\n",
    "## Database connection parameters\n",
    "dbname = \"postgres\"\n",
    "user = \"postgres\"\n",
    "password = \"Aghilas1999.\"\n",
    "host = \"localhost\"\n",
    "\n",
    "print(password)"
   ]
  },
  {
   "cell_type": "code",
   "execution_count": 2,
   "metadata": {},
   "outputs": [],
   "source": [
    "conn = psycopg2.connect(dbname=dbname, user=user, password=password,host=host)\n",
    "cur = conn.cursor()"
   ]
  }
 ],
 "metadata": {
  "kernelspec": {
   "display_name": "Python 3",
   "language": "python",
   "name": "python3"
  },
  "language_info": {
   "codemirror_mode": {
    "name": "ipython",
    "version": 3
   },
   "file_extension": ".py",
   "mimetype": "text/x-python",
   "name": "python",
   "nbconvert_exporter": "python",
   "pygments_lexer": "ipython3",
   "version": "3.12.4"
  }
 },
 "nbformat": 4,
 "nbformat_minor": 2
}
